{
 "cells": [
  {
   "cell_type": "markdown",
   "metadata": {},
   "source": [
    "# Tweets Sentiment Analysis - Data Science approach\n",
    "\n",
    "by Douglas Silva\n",
    "\n",
    "- <a href=\"https://www.linkedin.com/in/douglas-hebert-e-silva-0a508784/\"> Linkedin</a>\n",
    "- <a href=\"https://github.com/vaziozio\"> Github</a>"
   ]
  },
  {
   "cell_type": "markdown",
   "metadata": {},
   "source": [
    "### Objective\n",
    "\n",
    "- Preprocess, implement, understand, evaluate and select a model to feed our Tweets Streaming App.\n",
    "\n",
    "### Datasets\n",
    "\n",
    "- <a href=\"https://www.kaggle.com/augustop/portuguese-tweets-for-sentiment-analysis\">Portuguese Tweets for Sentiment Analysis</a>\n",
    "\n",
    "### Libraries\n",
    "\n",
    "- <a href=\"https://docs.python.org/2/library/pickle.html#module-pickle\">Pickle</a>\n",
    "- <a href=\"https://scikit-learn.org/stable/\">scikit-learn</a>\n",
    "- <a href=\"https://www.nltk.org/\">nltk</a>\n",
    "- <a href=\"https://pandas.pydata.org/\">Pandas</a>\n",
    "- <a href=\"https://matplotlib.org/\">Matplotlib</a>\n",
    "\n"
   ]
  },
  {
   "cell_type": "markdown",
   "metadata": {},
   "source": [
    "## Implementing Model using SKLearn"
   ]
  },
  {
   "cell_type": "markdown",
   "metadata": {},
   "source": [
    "### Importing libraries"
   ]
  },
  {
   "cell_type": "code",
   "execution_count": 1,
   "metadata": {
    "collapsed": true
   },
   "outputs": [],
   "source": [
    "import matplotlib.pyplot as plt\n",
    "%matplotlib inline\n",
    "import pickle\n",
    "import nltk\n",
    "import re\n",
    "import pandas as pd\n",
    "from sklearn.feature_extraction.text import CountVectorizer\n",
    "from sklearn.naive_bayes import MultinomialNB\n",
    "from sklearn.metrics import accuracy_score, precision_score, recall_score, f1_score"
   ]
  },
  {
   "cell_type": "markdown",
   "metadata": {},
   "source": [
    "### Loading train and test data"
   ]
  },
  {
   "cell_type": "code",
   "execution_count": 2,
   "metadata": {},
   "outputs": [
    {
     "name": "stdout",
     "output_type": "stream",
     "text": [
      "Train data rows: 100000\n"
     ]
    },
    {
     "data": {
      "text/html": [
       "<div>\n",
       "<style>\n",
       "    .dataframe thead tr:only-child th {\n",
       "        text-align: right;\n",
       "    }\n",
       "\n",
       "    .dataframe thead th {\n",
       "        text-align: left;\n",
       "    }\n",
       "\n",
       "    .dataframe tbody tr th {\n",
       "        vertical-align: top;\n",
       "    }\n",
       "</style>\n",
       "<table border=\"1\" class=\"dataframe\">\n",
       "  <thead>\n",
       "    <tr style=\"text-align: right;\">\n",
       "      <th></th>\n",
       "      <th>id</th>\n",
       "      <th>tweet_text</th>\n",
       "      <th>tweet_date</th>\n",
       "      <th>sentiment</th>\n",
       "      <th>query_used</th>\n",
       "    </tr>\n",
       "  </thead>\n",
       "  <tbody>\n",
       "    <tr>\n",
       "      <th>86211</th>\n",
       "      <td>1,0378E+18</td>\n",
       "      <td>Imprensa internacional repercute facada em Jai...</td>\n",
       "      <td>Thu Sep 06 20:39:06 +0000 2018</td>\n",
       "      <td>Neutro</td>\n",
       "      <td>jornaloglobo</td>\n",
       "    </tr>\n",
       "    <tr>\n",
       "      <th>52328</th>\n",
       "      <td>1,04693E+18</td>\n",
       "      <td>Como me aguita este pedo :(</td>\n",
       "      <td>Tue Oct 02 01:20:06 +0000 2018</td>\n",
       "      <td>Negativo</td>\n",
       "      <td>:(</td>\n",
       "    </tr>\n",
       "    <tr>\n",
       "      <th>61238</th>\n",
       "      <td>1,04671E+18</td>\n",
       "      <td>@elfawolga é alérgica a que? eu sou alérgica a...</td>\n",
       "      <td>Mon Oct 01 10:28:49 +0000 2018</td>\n",
       "      <td>Negativo</td>\n",
       "      <td>:(</td>\n",
       "    </tr>\n",
       "  </tbody>\n",
       "</table>\n",
       "</div>"
      ],
      "text/plain": [
       "                id                                         tweet_text  \\\n",
       "86211   1,0378E+18  Imprensa internacional repercute facada em Jai...   \n",
       "52328  1,04693E+18                        Como me aguita este pedo :(   \n",
       "61238  1,04671E+18  @elfawolga é alérgica a que? eu sou alérgica a...   \n",
       "\n",
       "                           tweet_date sentiment    query_used  \n",
       "86211  Thu Sep 06 20:39:06 +0000 2018    Neutro  jornaloglobo  \n",
       "52328  Tue Oct 02 01:20:06 +0000 2018  Negativo            :(  \n",
       "61238  Mon Oct 01 10:28:49 +0000 2018  Negativo            :(  "
      ]
     },
     "execution_count": 2,
     "metadata": {},
     "output_type": "execute_result"
    }
   ],
   "source": [
    "#loading and sampling train data\n",
    "df_train = pd.read_csv('data/Train3Classes.csv', delimiter=';')\n",
    "print('Train data rows: {}'.format(df_train.shape[0]))\n",
    "df_train.sample(3)"
   ]
  },
  {
   "cell_type": "code",
   "execution_count": 3,
   "metadata": {},
   "outputs": [
    {
     "data": {
      "image/png": "[encoded data removed]",
      "text/plain": [
       "<matplotlib.figure.Figure at 0x2bb2e68d908>"
      ]
     },
     "metadata": {},
     "output_type": "display_data"
    }
   ],
   "source": [
    "#visualizing categories from train data\n",
    "df_train['sentiment'].value_counts().plot(kind='bar', title=\"Tweets per sentiment\").xlabel=(\"Sentiment Classes\")"
   ]
  },
  {
   "cell_type": "code",
   "execution_count": 4,
   "metadata": {},
   "outputs": [
    {
     "name": "stdout",
     "output_type": "stream",
     "text": [
      "Test data rows: 4999\n"
     ]
    },
    {
     "data": {
      "text/html": [
       "<div>\n",
       "<style>\n",
       "    .dataframe thead tr:only-child th {\n",
       "        text-align: right;\n",
       "    }\n",
       "\n",
       "    .dataframe thead th {\n",
       "        text-align: left;\n",
       "    }\n",
       "\n",
       "    .dataframe tbody tr th {\n",
       "        vertical-align: top;\n",
       "    }\n",
       "</style>\n",
       "<table border=\"1\" class=\"dataframe\">\n",
       "  <thead>\n",
       "    <tr style=\"text-align: right;\">\n",
       "      <th></th>\n",
       "      <th>id</th>\n",
       "      <th>tweet_text</th>\n",
       "      <th>tweet_date</th>\n",
       "      <th>sentiment</th>\n",
       "      <th>query_used</th>\n",
       "    </tr>\n",
       "  </thead>\n",
       "  <tbody>\n",
       "    <tr>\n",
       "      <th>2421</th>\n",
       "      <td>1,0305E+18</td>\n",
       "      <td>Tô com saudade dos meus amiguinhos de Brasília :(</td>\n",
       "      <td>Fri Aug 17 17:19:19 +0000 2018</td>\n",
       "      <td>Negativo</td>\n",
       "      <td>:(</td>\n",
       "    </tr>\n",
       "    <tr>\n",
       "      <th>2112</th>\n",
       "      <td>1,0305E+18</td>\n",
       "      <td>Sonhei com o chabelo hoje, que saudades daquel...</td>\n",
       "      <td>Fri Aug 17 17:04:38 +0000 2018</td>\n",
       "      <td>Negativo</td>\n",
       "      <td>:(</td>\n",
       "    </tr>\n",
       "    <tr>\n",
       "      <th>1623</th>\n",
       "      <td>1,02957E+18</td>\n",
       "      <td>Vamos troca uma idéia bb :) https://t.co/moSM2...</td>\n",
       "      <td>Wed Aug 15 03:45:07 +0000 2018</td>\n",
       "      <td>Positivo</td>\n",
       "      <td>:)</td>\n",
       "    </tr>\n",
       "  </tbody>\n",
       "</table>\n",
       "</div>"
      ],
      "text/plain": [
       "               id                                         tweet_text  \\\n",
       "2421   1,0305E+18  Tô com saudade dos meus amiguinhos de Brasília :(   \n",
       "2112   1,0305E+18  Sonhei com o chabelo hoje, que saudades daquel...   \n",
       "1623  1,02957E+18  Vamos troca uma idéia bb :) https://t.co/moSM2...   \n",
       "\n",
       "                          tweet_date sentiment query_used  \n",
       "2421  Fri Aug 17 17:19:19 +0000 2018  Negativo         :(  \n",
       "2112  Fri Aug 17 17:04:38 +0000 2018  Negativo         :(  \n",
       "1623  Wed Aug 15 03:45:07 +0000 2018  Positivo         :)  "
      ]
     },
     "execution_count": 4,
     "metadata": {},
     "output_type": "execute_result"
    }
   ],
   "source": [
    "#loading and sampling test data\n",
    "df_test = pd.read_csv('data/Test3classes.csv', delimiter=';')\n",
    "print('Test data rows: {}'.format(df_test.shape[0]))\n",
    "df_test.sample(3)"
   ]
  },
  {
   "cell_type": "code",
   "execution_count": 5,
   "metadata": {},
   "outputs": [
    {
     "data": {
      "image/png": "[encoded data removed]",
      "text/plain": [
       "<matplotlib.figure.Figure at 0x2bb2ec1a6d8>"
      ]
     },
     "metadata": {},
     "output_type": "display_data"
    }
   ],
   "source": [
    "df_test['sentiment'].value_counts().plot(kind='bar', title=\"Tweets per sentiment\").xlabel=(\"Sentiment Classes\")"
   ]
  },
  {
   "cell_type": "code",
   "execution_count": 6,
   "metadata": {},
   "outputs": [
    {
     "name": "stdout",
     "output_type": "stream",
     "text": [
      "Number of rows in the total set: 104999\n"
     ]
    }
   ],
   "source": [
    "print('Number of rows in the total set: {}'.format(df_train.shape[0]+df_test.shape[0]))"
   ]
  },
  {
   "cell_type": "markdown",
   "metadata": {},
   "source": [
    "#### Selecting features and labels for both datasets "
   ]
  },
  {
   "cell_type": "code",
   "execution_count": 7,
   "metadata": {},
   "outputs": [
    {
     "data": {
      "text/plain": [
       "'Hoje ta parecendo sabado to perdida :)'"
      ]
     },
     "execution_count": 7,
     "metadata": {},
     "output_type": "execute_result"
    }
   ],
   "source": [
    "#train data\n",
    "tweets, sentiments = df_train['tweet_text'].values , df_train['sentiment'].values\n",
    "#test data\n",
    "tweets_ts, sentiments_ts = df_test['tweet_text'].values , df_test['sentiment'].values\n",
    "tweets[54]"
   ]
  },
  {
   "cell_type": "markdown",
   "metadata": {},
   "source": [
    "### Applying Bag of Words"
   ]
  },
  {
   "cell_type": "code",
   "execution_count": 8,
   "metadata": {
    "collapsed": true
   },
   "outputs": [],
   "source": [
    "# Instantiating the CountVectorizer method\n",
    "count_vector = CountVectorizer()\n",
    "\n",
    "# Fitting the training data and then return the matrix\n",
    "training_data = count_vector.fit_transform(tweets)\n",
    "\n",
    "# Transform testing data and return the matrix.\n",
    "testing_data = count_vector.transform(tweets_ts)"
   ]
  },
  {
   "cell_type": "markdown",
   "metadata": {},
   "source": [
    "### Naive Bayes Implementation with scikit-learn"
   ]
  },
  {
   "cell_type": "code",
   "execution_count": 9,
   "metadata": {},
   "outputs": [
    {
     "data": {
      "text/plain": [
       "MultinomialNB(alpha=1.0, class_prior=None, fit_prior=True)"
      ]
     },
     "execution_count": 9,
     "metadata": {},
     "output_type": "execute_result"
    }
   ],
   "source": [
    "#creating and fitting NB classifier to our data\n",
    "clf = MultinomialNB()\n",
    "clf.fit(training_data , sentiments)"
   ]
  },
  {
   "cell_type": "markdown",
   "metadata": {},
   "source": [
    "#### Predicting"
   ]
  },
  {
   "cell_type": "code",
   "execution_count": 10,
   "metadata": {
    "collapsed": true
   },
   "outputs": [],
   "source": [
    "#predicting\n",
    "predictions = clf.predict(testing_data)"
   ]
  },
  {
   "cell_type": "markdown",
   "metadata": {},
   "source": [
    "### Evaluating Model - Methods\n",
    "\n",
    "- **Accuracy**: Measures how often the classifier makes the correct prediction. It's the ratio of the number of correct predictions to the total number os predictions.\n",
    "\n",
    "- **Precision**: Tells us what proportion of tweets we classified as in a sentiment class, really were in this class. It's a ratio of True Positive to All positives -> [True Positives/(True Positives + False Positives)]\n",
    "\n",
    "- **Recall**: Tells us what proportion of tweets that actually were in a class, were correctly classified by us, in other words it is the ratio of -> [True Positives/(True Positives + False Negatives)]\n",
    "\n",
    "For classification problems that are skewed in their classification distributions(not our case), for example if we had 100 tweets, only 3 'Negative' and the rest 97 weren't, accuracy by itself is not a very good metric. For such cases, precision and recall come in very handy. These two metrics can be combined to get the F1 score, which is weighted average of the precision and recall scores. This score can range from 0 to 1, with 1 being the best possible F1 score."
   ]
  },
  {
   "cell_type": "markdown",
   "metadata": {},
   "source": [
    "#### Evaluating the classifier"
   ]
  },
  {
   "cell_type": "code",
   "execution_count": 11,
   "metadata": {},
   "outputs": [
    {
     "name": "stdout",
     "output_type": "stream",
     "text": [
      "Precision score:  0.7905154107589398\n",
      "Recall score:  0.795186100835055\n",
      "F1 score:  0.7915624812187664\n"
     ]
    }
   ],
   "source": [
    "#implementing support metrics\n",
    "\n",
    "print('Precision score: ', format(precision_score(sentiments_ts,predictions,average=\"macro\")))\n",
    "print('Recall score: ', format(recall_score(sentiments_ts,predictions,average=\"macro\")))\n",
    "print('F1 score: ', format(f1_score(sentiments_ts,predictions,average=\"macro\")))"
   ]
  },
  {
   "cell_type": "markdown",
   "metadata": {},
   "source": [
    "# Accuracy report"
   ]
  },
  {
   "cell_type": "code",
   "execution_count": 12,
   "metadata": {},
   "outputs": [
    {
     "name": "stdout",
     "output_type": "stream",
     "text": [
      "Accuracy score:  0.7951590318063613\n"
     ]
    }
   ],
   "source": [
    "#implementing accuracy\n",
    "\n",
    "print('Accuracy score: ', format(accuracy_score(sentiments_ts,predictions)))"
   ]
  },
  {
   "cell_type": "markdown",
   "metadata": {},
   "source": [
    "#### What metric are you using? Why ?"
   ]
  },
  {
   "cell_type": "markdown",
   "metadata": {},
   "source": [
    "I am using Accuracy metric, once our dataset is balanced and not skewed, we can take accuracy as a good metric."
   ]
  },
  {
   "cell_type": "markdown",
   "metadata": {},
   "source": [
    "#### Which type of test did you choose ?"
   ]
  },
  {
   "cell_type": "markdown",
   "metadata": {},
   "source": [
    "I choose test/split test method."
   ]
  },
  {
   "cell_type": "markdown",
   "metadata": {},
   "source": [
    "#### Include the test dataset"
   ]
  },
  {
   "cell_type": "markdown",
   "metadata": {
    "collapsed": true
   },
   "source": [
    "The entire data is attached to this project in 'data' folder"
   ]
  },
  {
   "cell_type": "markdown",
   "metadata": {},
   "source": [
    "### Saving model to deploy"
   ]
  },
  {
   "cell_type": "code",
   "execution_count": 13,
   "metadata": {
    "collapsed": true
   },
   "outputs": [],
   "source": [
    "#saving model to pickle\n",
    "filename = 'sentiment_analysis.sav'\n",
    "pickle.dump(clf, open(filename, 'wb'), protocol=2)\n",
    "filename = 'vectorizer.sav'\n",
    "pickle.dump(count_vector, open(filename, 'wb'), protocol=2)"
   ]
  },
  {
   "cell_type": "code",
   "execution_count": null,
   "metadata": {
    "collapsed": true
   },
   "outputs": [],
   "source": []
  }
 ],
 "metadata": {
  "kernelspec": {
   "display_name": "Python 3",
   "language": "python",
   "name": "python3"
  },
  "language_info": {
   "codemirror_mode": {
    "name": "ipython",
    "version": 3
   },
   "file_extension": ".py",
   "mimetype": "text/x-python",
   "name": "python",
   "nbconvert_exporter": "python",
   "pygments_lexer": "ipython3",
   "version": "3.6.1"
  }
 },
 "nbformat": 4,
 "nbformat_minor": 2
}
